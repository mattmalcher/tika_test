{
 "cells": [
  {
   "cell_type": "code",
   "execution_count": null,
   "id": "04ffed8d",
   "metadata": {},
   "outputs": [],
   "source": [
    "from citation_scanner import download, tika, regex\n",
    "import pandas as pd\n",
    "import spacy_annotator as spa"
   ]
  },
  {
   "cell_type": "markdown",
   "id": "17948489",
   "metadata": {},
   "source": [
    "# Grab Sample Data\n",
    "\n",
    "The first thing we need to do, to test viability, is get some sample data to work with."
   ]
  },
  {
   "cell_type": "code",
   "execution_count": null,
   "id": "50a0a34f",
   "metadata": {},
   "outputs": [],
   "source": [
    "file_list = download.get_file_list()\n",
    "download.download_file_list(file_list, loc=\"pdfs\")"
   ]
  },
  {
   "cell_type": "markdown",
   "id": "462fe49e",
   "metadata": {},
   "source": [
    "# Extract Text\n",
    "Now we have some relevant PDFs locally we use tika to pull out the text"
   ]
  },
  {
   "cell_type": "code",
   "execution_count": null,
   "id": "a89e71d2",
   "metadata": {},
   "outputs": [],
   "source": [
    "tika.parse_dir(\"pdfs\")\n",
    "docs = tika.read_parsed_dir(\"pdfs\", strip_lines=True)"
   ]
  },
  {
   "cell_type": "markdown",
   "id": "18329ee0",
   "metadata": {},
   "source": [
    "# Make Samples\n",
    "\n",
    "At this point we have the entire text of the PDF's but for our tagging we want to cut them down to something more manageble. \n",
    "\n",
    "Here we use a regex to find the text either side of each occurance of the `[YYYY]` tags in the document."
   ]
  },
  {
   "cell_type": "code",
   "execution_count": null,
   "id": "835642e6",
   "metadata": {},
   "outputs": [],
   "source": [
    "pattern_list = [r\"\\[\\d{4}\\]\"]\n",
    "\n",
    "match_list = regex.get_match_obj(\n",
    "    pattern=pattern_list[0],\n",
    "    doc=docs[0],\n",
    "    window=(200, 200)\n",
    ")"
   ]
  },
  {
   "cell_type": "code",
   "execution_count": null,
   "id": "bb66b0e0",
   "metadata": {},
   "outputs": [],
   "source": [
    "# Add just the text elements to a dataframe (as expected by the annotator)\n",
    "samples_df = pd.DataFrame({\n",
    "    \"text\": [x[1] for x in match_list]}\n",
    ")\n",
    "\n",
    "samples_df.head()"
   ]
  },
  {
   "cell_type": "markdown",
   "id": "1e672a28",
   "metadata": {},
   "source": [
    "Set up an annotator with which to tag citatons."
   ]
  },
  {
   "cell_type": "code",
   "execution_count": null,
   "id": "132e89cc",
   "metadata": {},
   "outputs": [],
   "source": [
    "annotator = spa.Annotator(labels=[\"citation\"])"
   ]
  },
  {
   "cell_type": "markdown",
   "id": "e330860f",
   "metadata": {},
   "source": [
    "Here we use the annotator plugin to generate a second column in the format spacy expects, ie. "
   ]
  },
  {
   "cell_type": "code",
   "execution_count": null,
   "id": "42104a3b",
   "metadata": {},
   "outputs": [],
   "source": [
    "df_labels = annotator.annotate(df=samples_df, col_text=\"text\")"
   ]
  },
  {
   "cell_type": "code",
   "execution_count": null,
   "id": "7bfc618a",
   "metadata": {},
   "outputs": [],
   "source": [
    "df_labels.head()"
   ]
  },
  {
   "cell_type": "code",
   "execution_count": null,
   "id": "8e2b1c6a",
   "metadata": {},
   "outputs": [],
   "source": [
    "has_labels = df_labels[df_labels[\"annotations\"] !=\"\"]"
   ]
  },
  {
   "cell_type": "markdown",
   "id": "6d75415b",
   "metadata": {},
   "source": [
    "Finally, we save out the annotations to a .spacy file"
   ]
  },
  {
   "cell_type": "code",
   "execution_count": null,
   "id": "b98b984e",
   "metadata": {},
   "outputs": [],
   "source": [
    "spacy_annotations = annotator.to_spacy(has_labels, \"training/citation_labels_1.spacy\")"
   ]
  }
 ],
 "metadata": {
  "kernelspec": {
   "display_name": "Python 3 (ipykernel)",
   "language": "python",
   "name": "python3"
  },
  "language_info": {
   "codemirror_mode": {
    "name": "ipython",
    "version": 3
   },
   "file_extension": ".py",
   "mimetype": "text/x-python",
   "name": "python",
   "nbconvert_exporter": "python",
   "pygments_lexer": "ipython3",
   "version": "3.8.10"
  }
 },
 "nbformat": 4,
 "nbformat_minor": 5
}
