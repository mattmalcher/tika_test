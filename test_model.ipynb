{
 "cells": [
  {
   "cell_type": "code",
   "execution_count": null,
   "id": "da1a3f46",
   "metadata": {},
   "outputs": [],
   "source": [
    "from citation_scanner import download, tika, regex\n",
    "import pandas as pd\n",
    "import spacy_annotator as spa\n",
    "import spacy"
   ]
  },
  {
   "cell_type": "markdown",
   "id": "694e11f0",
   "metadata": {},
   "source": [
    "# Extract Text\n",
    "Now we have some relevant PDFs locally we use tika to pull out the text"
   ]
  },
  {
   "cell_type": "code",
   "execution_count": null,
   "id": "0e3e25a1",
   "metadata": {},
   "outputs": [],
   "source": [
    "tika.parse_dir(\"pdfs\")\n",
    "docs = tika.read_parsed_dir(\"pdfs\", strip_lines=True)"
   ]
  },
  {
   "cell_type": "markdown",
   "id": "2d250555",
   "metadata": {},
   "source": [
    "# Make Samples\n",
    "\n",
    "At this point we have the entire text of the PDF's but for our tagging we want to cut them down to something more manageble. \n",
    "\n",
    "Here we use a regex to find the text either side of each occurance of the `[YYYY]` tags in the document."
   ]
  },
  {
   "cell_type": "code",
   "execution_count": null,
   "id": "21d438d3",
   "metadata": {},
   "outputs": [],
   "source": [
    "pattern_list = [r\"\\[\\d{4}\\]\"]\n",
    "\n",
    "match_list = regex.get_match_obj(\n",
    "    pattern=pattern_list[0],\n",
    "    doc=docs[1],\n",
    "    window=(200, 200)\n",
    ")"
   ]
  },
  {
   "cell_type": "code",
   "execution_count": null,
   "id": "9b1640ba",
   "metadata": {},
   "outputs": [],
   "source": [
    "# Add just the text elements to a dataframe (as expected by the annotator)\n",
    "samples_df = pd.DataFrame({\n",
    "    \"text\": [x[1] for x in match_list]}\n",
    ")\n",
    "\n",
    "samples_df.head()"
   ]
  },
  {
   "cell_type": "markdown",
   "id": "3fbc076e",
   "metadata": {},
   "source": [
    "# Load Model\n",
    "We trained a model with a handful of initial samples from docs[0], perhaps we can use it to speed up tagging of the other docs?"
   ]
  },
  {
   "cell_type": "code",
   "execution_count": null,
   "id": "a8a12f3c",
   "metadata": {},
   "outputs": [],
   "source": [
    "nlp = spacy.load(\"training/output/model-best\")"
   ]
  },
  {
   "cell_type": "markdown",
   "id": "889913f1",
   "metadata": {},
   "source": [
    "Set up an annotator with which to tag citatons - feeding in the model."
   ]
  },
  {
   "cell_type": "code",
   "execution_count": null,
   "id": "4f7f5165",
   "metadata": {},
   "outputs": [],
   "source": [
    "annotator = spa.Annotator(labels=[\"citation\"], model = nlp)"
   ]
  },
  {
   "cell_type": "markdown",
   "id": "f43e633b",
   "metadata": {},
   "source": [
    "Now we see the model starts to make some suggestions, so we dont need to select everything ourselves :)"
   ]
  },
  {
   "cell_type": "code",
   "execution_count": null,
   "id": "6bc6ac5e",
   "metadata": {},
   "outputs": [],
   "source": [
    "df_labels = annotator.annotate(df=samples_df, col_text=\"text\")"
   ]
  },
  {
   "cell_type": "code",
   "execution_count": null,
   "id": "53ee2907",
   "metadata": {},
   "outputs": [],
   "source": [
    "df_labels.head()"
   ]
  },
  {
   "cell_type": "code",
   "execution_count": null,
   "id": "3742c71e",
   "metadata": {},
   "outputs": [],
   "source": [
    "has_labels = df_labels[df_labels[\"annotations\"] !=\"\"]"
   ]
  },
  {
   "cell_type": "markdown",
   "id": "8e02c3cb",
   "metadata": {},
   "source": [
    "Finally, we save out the additional annotations to a .spacy file"
   ]
  },
  {
   "cell_type": "code",
   "execution_count": null,
   "id": "ea9d0e6a",
   "metadata": {},
   "outputs": [],
   "source": [
    "spacy_annotations = annotator.to_spacy(has_labels, \"training/citation_labels_2.spacy\")"
   ]
  }
 ],
 "metadata": {
  "kernelspec": {
   "display_name": "Python 3 (ipykernel)",
   "language": "python",
   "name": "python3"
  },
  "language_info": {
   "codemirror_mode": {
    "name": "ipython",
    "version": 3
   },
   "file_extension": ".py",
   "mimetype": "text/x-python",
   "name": "python",
   "nbconvert_exporter": "python",
   "pygments_lexer": "ipython3",
   "version": "3.8.10"
  }
 },
 "nbformat": 4,
 "nbformat_minor": 5
}
